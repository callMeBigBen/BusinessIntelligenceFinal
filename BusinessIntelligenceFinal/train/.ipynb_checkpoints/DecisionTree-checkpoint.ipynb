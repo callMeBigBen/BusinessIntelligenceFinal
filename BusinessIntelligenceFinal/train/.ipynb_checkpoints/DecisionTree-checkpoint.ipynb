{
 "cells": [
  {
   "cell_type": "code",
   "execution_count": 3,
   "metadata": {},
   "outputs": [],
   "source": [
    "from sklearn.tree import DecisionTreeClassifier\n",
    "\n",
    "import sklearn.datasets as skl_ds\n",
    "\n",
    "from sklearn.model_selection import train_test_split\n",
    "\n",
    "cancer = skl_ds.load_breast_cancer()\n",
    "\n",
    "X_train,X_test,y_train,y_test = train_test_split(\n",
    "    cancer.data,cancer.target,stratify = cancer.target,random_state =42)\n",
    "\n",
    "tree = DecisionTreeClassifier(random_state = 0)\n",
    "\n",
    "tree.fit(X_train,y_train)\n",
    "\n",
    "print(\"Acc on train: \",tree.score(X_train,y_train) )\n",
    "print(\"Acc on test: \",tree.score(X_test,y_test) )"
   ]
  },
  {
   "cell_type": "code",
   "execution_count": null,
   "metadata": {},
   "outputs": [],
   "source": []
  }
 ],
 "metadata": {
  "kernelspec": {
   "display_name": "Python 3",
   "language": "python",
   "name": "python3"
  },
  "language_info": {
   "codemirror_mode": {
    "name": "ipython",
    "version": 3
   },
   "file_extension": ".py",
   "mimetype": "text/x-python",
   "name": "python",
   "nbconvert_exporter": "python",
   "pygments_lexer": "ipython3",
   "version": "3.6.5"
  }
 },
 "nbformat": 4,
 "nbformat_minor": 2
}
