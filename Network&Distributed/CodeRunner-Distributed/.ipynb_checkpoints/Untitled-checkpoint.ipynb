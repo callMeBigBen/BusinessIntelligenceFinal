{
 "cells": [
  {
   "cell_type": "code",
   "execution_count": 2,
   "metadata": {},
   "outputs": [],
   "source": [
    "from socket import *"
   ]
  },
  {
   "cell_type": "code",
   "execution_count": null,
   "metadata": {},
   "outputs": [
    {
     "name": "stdout",
     "output_type": "stream",
     "text": [
      "The server is ready to receive\n"
     ]
    }
   ],
   "source": [
    "serverPort = 12000\n",
    "serverSocket = socket(AF_INET, SOCK_STREAM)\n",
    "#serverSocket.bind(('192.168.31.133',serverPort))\n",
    "serverSocket.bind(('127.0.0.1',serverPort))\n",
    "serverSocket.listen(5)\n",
    "\n",
    "print (\"The server is ready to receive\")\n",
    "isRec = False\n",
    "\n",
    "while not isRec:\n",
    "\tconnectionSocket, addr = serverSocket.accept()\n",
    "\tsentence = connectionSocket.recv(1024).decode()\n",
    "\tif sentence.count > 0:\n",
    "\t    capitalizedSentence = sentence.upper()\n",
    "\t    connectionSocket.send(capitalizedSentence.encode())\n",
    "\t    isRec = not isRec\n",
    "\ttime.sleep(1)\n",
    "\n",
    "connectionSocket.close()"
   ]
  },
  {
   "cell_type": "code",
   "execution_count": null,
   "metadata": {},
   "outputs": [],
   "source": [
    "#serverName = '192.168.31.133'\n",
    "serverName = '127.0.0.1'\n",
    "serverPort = 12000\n",
    "clientSocket = socket(AF_INET, SOCK_STREAM)\n",
    "clientSocket.connect((serverName, serverPort))\n",
    "\n",
    "sentence = input(\"input lowercase sentence:\")\n",
    "clientSocket.send(sentence.encode())\n",
    "\n",
    "modifiedSentence = clientSocket.recv(1024)\n",
    "print(\"From Server:\", modifiedSentence.decode())\n",
    "\n",
    "clientSocket.close()\n"
   ]
  },
  {
   "cell_type": "code",
   "execution_count": null,
   "metadata": {},
   "outputs": [],
   "source": []
  }
 ],
 "metadata": {
  "kernelspec": {
   "display_name": "Python 3",
   "language": "python",
   "name": "python3"
  },
  "language_info": {
   "codemirror_mode": {
    "name": "ipython",
    "version": 3
   },
   "file_extension": ".py",
   "mimetype": "text/x-python",
   "name": "python",
   "nbconvert_exporter": "python",
   "pygments_lexer": "ipython3",
   "version": "3.6.5"
  }
 },
 "nbformat": 4,
 "nbformat_minor": 2
}
