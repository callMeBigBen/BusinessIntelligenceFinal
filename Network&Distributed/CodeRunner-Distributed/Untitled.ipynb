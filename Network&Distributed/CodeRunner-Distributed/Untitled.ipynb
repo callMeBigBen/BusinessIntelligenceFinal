{
 "cells": [
  {
   "cell_type": "code",
   "execution_count": 1,
   "metadata": {},
   "outputs": [],
   "source": [
    "from socket import *"
   ]
  },
  {
   "cell_type": "code",
   "execution_count": 2,
   "metadata": {},
   "outputs": [
    {
     "name": "stdout",
     "output_type": "stream",
     "text": [
      "The server is ready to receive\n"
     ]
    },
    {
     "ename": "TypeError",
     "evalue": "'>' not supported between instances of 'builtin_function_or_method' and 'int'",
     "output_type": "error",
     "traceback": [
      "\u001b[1;31m---------------------------------------------------------------------------\u001b[0m",
      "\u001b[1;31mTypeError\u001b[0m                                 Traceback (most recent call last)",
      "\u001b[1;32m<ipython-input-2-249a1d85b2e5>\u001b[0m in \u001b[0;36m<module>\u001b[1;34m()\u001b[0m\n\u001b[0;32m     11\u001b[0m         \u001b[0mconnectionSocket\u001b[0m\u001b[1;33m,\u001b[0m \u001b[0maddr\u001b[0m \u001b[1;33m=\u001b[0m \u001b[0mserverSocket\u001b[0m\u001b[1;33m.\u001b[0m\u001b[0maccept\u001b[0m\u001b[1;33m(\u001b[0m\u001b[1;33m)\u001b[0m\u001b[1;33m\u001b[0m\u001b[0m\n\u001b[0;32m     12\u001b[0m         \u001b[0msentence\u001b[0m \u001b[1;33m=\u001b[0m \u001b[0mconnectionSocket\u001b[0m\u001b[1;33m.\u001b[0m\u001b[0mrecv\u001b[0m\u001b[1;33m(\u001b[0m\u001b[1;36m1024\u001b[0m\u001b[1;33m)\u001b[0m\u001b[1;33m.\u001b[0m\u001b[0mdecode\u001b[0m\u001b[1;33m(\u001b[0m\u001b[1;33m)\u001b[0m\u001b[1;33m\u001b[0m\u001b[0m\n\u001b[1;32m---> 13\u001b[1;33m         \u001b[1;32mif\u001b[0m \u001b[0msentence\u001b[0m\u001b[1;33m.\u001b[0m\u001b[0mcount\u001b[0m \u001b[1;33m>\u001b[0m \u001b[1;36m0\u001b[0m\u001b[1;33m:\u001b[0m\u001b[1;33m\u001b[0m\u001b[0m\n\u001b[0m\u001b[0;32m     14\u001b[0m             \u001b[0mcapitalizedSentence\u001b[0m \u001b[1;33m=\u001b[0m \u001b[0msentence\u001b[0m\u001b[1;33m.\u001b[0m\u001b[0mupper\u001b[0m\u001b[1;33m(\u001b[0m\u001b[1;33m)\u001b[0m\u001b[1;33m\u001b[0m\u001b[0m\n\u001b[0;32m     15\u001b[0m             \u001b[0mconnectionSocket\u001b[0m\u001b[1;33m.\u001b[0m\u001b[0msend\u001b[0m\u001b[1;33m(\u001b[0m\u001b[0mcapitalizedSentence\u001b[0m\u001b[1;33m.\u001b[0m\u001b[0mencode\u001b[0m\u001b[1;33m(\u001b[0m\u001b[1;33m)\u001b[0m\u001b[1;33m)\u001b[0m\u001b[1;33m\u001b[0m\u001b[0m\n",
      "\u001b[1;31mTypeError\u001b[0m: '>' not supported between instances of 'builtin_function_or_method' and 'int'"
     ]
    }
   ],
   "source": [
    "serverPort = 12000\n",
    "serverSocket = socket(AF_INET, SOCK_STREAM)\n",
    "#serverSocket.bind(('192.168.31.133',serverPort))\n",
    "serverSocket.bind(('127.0.0.1',serverPort))\n",
    "serverSocket.listen(5)\n",
    "\n",
    "print (\"The server is ready to receive\")\n",
    "isRec = False\n",
    "\n",
    "while not isRec:\n",
    "\tconnectionSocket, addr = serverSocket.accept()\n",
    "\tsentence = connectionSocket.recv(1024).decode()\n",
    "\tif sentence.count > 0:\n",
    "\t    capitalizedSentence = sentence.upper()\n",
    "\t    connectionSocket.send(capitalizedSentence.encode())\n",
    "\t    isRec = not isRec\n",
    "\ttime.sleep(1)\n",
    "\n",
    "connectionSocket.close()"
   ]
  },
  {
   "cell_type": "code",
   "execution_count": null,
   "metadata": {},
   "outputs": [],
   "source": [
    "#serverName = '192.168.31.133'\n",
    "serverName = '127.0.0.1'\n",
    "serverPort = 12000\n",
    "clientSocket = socket(AF_INET, SOCK_STREAM)\n",
    "clientSocket.connect((serverName, serverPort))\n",
    "\n",
    "sentence = input(\"input lowercase sentence:\")\n",
    "clientSocket.send(sentence.encode())\n",
    "\n",
    "modifiedSentence = clientSocket.recv(1024)\n",
    "print(\"From Server:\", modifiedSentence.decode())\n",
    "\n",
    "clientSocket.close()\n"
   ]
  },
  {
   "cell_type": "code",
   "execution_count": null,
   "metadata": {},
   "outputs": [],
   "source": []
  }
 ],
 "metadata": {
  "kernelspec": {
   "display_name": "Python 3",
   "language": "python",
   "name": "python3"
  },
  "language_info": {
   "codemirror_mode": {
    "name": "ipython",
    "version": 3
   },
   "file_extension": ".py",
   "mimetype": "text/x-python",
   "name": "python",
   "nbconvert_exporter": "python",
   "pygments_lexer": "ipython3",
   "version": "3.6.5"
  }
 },
 "nbformat": 4,
 "nbformat_minor": 2
}
